{
 "cells": [
  {
   "cell_type": "code",
   "execution_count": 33,
   "id": "e24491ee",
   "metadata": {},
   "outputs": [],
   "source": [
    "import requests\n",
    "import pandas as pd\n",
    "import numpy as np\n",
    "import json\n"
   ]
  },
  {
   "cell_type": "code",
   "execution_count": 34,
   "id": "a7d89d0f",
   "metadata": {},
   "outputs": [],
   "source": [
    "data = pd.read_csv(\"./data/Obesity Classification.csv\")\n"
   ]
  },
  {
   "cell_type": "code",
   "execution_count": 35,
   "id": "f8a3dbe5",
   "metadata": {},
   "outputs": [
    {
     "data": {
      "text/html": [
       "<div>\n",
       "<style scoped>\n",
       "    .dataframe tbody tr th:only-of-type {\n",
       "        vertical-align: middle;\n",
       "    }\n",
       "\n",
       "    .dataframe tbody tr th {\n",
       "        vertical-align: top;\n",
       "    }\n",
       "\n",
       "    .dataframe thead th {\n",
       "        text-align: right;\n",
       "    }\n",
       "</style>\n",
       "<table border=\"1\" class=\"dataframe\">\n",
       "  <thead>\n",
       "    <tr style=\"text-align: right;\">\n",
       "      <th></th>\n",
       "      <th>ID</th>\n",
       "      <th>Age</th>\n",
       "      <th>Gender</th>\n",
       "      <th>Height</th>\n",
       "      <th>Weight</th>\n",
       "      <th>BMI</th>\n",
       "      <th>Label</th>\n",
       "    </tr>\n",
       "  </thead>\n",
       "  <tbody>\n",
       "    <tr>\n",
       "      <th>0</th>\n",
       "      <td>1</td>\n",
       "      <td>25</td>\n",
       "      <td>Male</td>\n",
       "      <td>175</td>\n",
       "      <td>80</td>\n",
       "      <td>25.3</td>\n",
       "      <td>Normal Weight</td>\n",
       "    </tr>\n",
       "    <tr>\n",
       "      <th>1</th>\n",
       "      <td>2</td>\n",
       "      <td>30</td>\n",
       "      <td>Female</td>\n",
       "      <td>160</td>\n",
       "      <td>60</td>\n",
       "      <td>22.5</td>\n",
       "      <td>Normal Weight</td>\n",
       "    </tr>\n",
       "    <tr>\n",
       "      <th>2</th>\n",
       "      <td>3</td>\n",
       "      <td>35</td>\n",
       "      <td>Male</td>\n",
       "      <td>180</td>\n",
       "      <td>90</td>\n",
       "      <td>27.3</td>\n",
       "      <td>Overweight</td>\n",
       "    </tr>\n",
       "    <tr>\n",
       "      <th>3</th>\n",
       "      <td>4</td>\n",
       "      <td>40</td>\n",
       "      <td>Female</td>\n",
       "      <td>150</td>\n",
       "      <td>50</td>\n",
       "      <td>20.0</td>\n",
       "      <td>Underweight</td>\n",
       "    </tr>\n",
       "    <tr>\n",
       "      <th>4</th>\n",
       "      <td>5</td>\n",
       "      <td>45</td>\n",
       "      <td>Male</td>\n",
       "      <td>190</td>\n",
       "      <td>100</td>\n",
       "      <td>31.2</td>\n",
       "      <td>Obese</td>\n",
       "    </tr>\n",
       "    <tr>\n",
       "      <th>...</th>\n",
       "      <td>...</td>\n",
       "      <td>...</td>\n",
       "      <td>...</td>\n",
       "      <td>...</td>\n",
       "      <td>...</td>\n",
       "      <td>...</td>\n",
       "      <td>...</td>\n",
       "    </tr>\n",
       "    <tr>\n",
       "      <th>103</th>\n",
       "      <td>106</td>\n",
       "      <td>11</td>\n",
       "      <td>Male</td>\n",
       "      <td>175</td>\n",
       "      <td>10</td>\n",
       "      <td>3.9</td>\n",
       "      <td>Underweight</td>\n",
       "    </tr>\n",
       "    <tr>\n",
       "      <th>104</th>\n",
       "      <td>107</td>\n",
       "      <td>16</td>\n",
       "      <td>Female</td>\n",
       "      <td>160</td>\n",
       "      <td>10</td>\n",
       "      <td>3.9</td>\n",
       "      <td>Underweight</td>\n",
       "    </tr>\n",
       "    <tr>\n",
       "      <th>105</th>\n",
       "      <td>108</td>\n",
       "      <td>21</td>\n",
       "      <td>Male</td>\n",
       "      <td>180</td>\n",
       "      <td>15</td>\n",
       "      <td>5.6</td>\n",
       "      <td>Underweight</td>\n",
       "    </tr>\n",
       "    <tr>\n",
       "      <th>106</th>\n",
       "      <td>109</td>\n",
       "      <td>26</td>\n",
       "      <td>Female</td>\n",
       "      <td>150</td>\n",
       "      <td>15</td>\n",
       "      <td>5.6</td>\n",
       "      <td>Underweight</td>\n",
       "    </tr>\n",
       "    <tr>\n",
       "      <th>107</th>\n",
       "      <td>110</td>\n",
       "      <td>31</td>\n",
       "      <td>Male</td>\n",
       "      <td>190</td>\n",
       "      <td>20</td>\n",
       "      <td>8.3</td>\n",
       "      <td>Underweight</td>\n",
       "    </tr>\n",
       "  </tbody>\n",
       "</table>\n",
       "<p>108 rows × 7 columns</p>\n",
       "</div>"
      ],
      "text/plain": [
       "      ID  Age  Gender  Height  Weight   BMI          Label\n",
       "0      1   25    Male     175      80  25.3  Normal Weight\n",
       "1      2   30  Female     160      60  22.5  Normal Weight\n",
       "2      3   35    Male     180      90  27.3     Overweight\n",
       "3      4   40  Female     150      50  20.0    Underweight\n",
       "4      5   45    Male     190     100  31.2          Obese\n",
       "..   ...  ...     ...     ...     ...   ...            ...\n",
       "103  106   11    Male     175      10   3.9    Underweight\n",
       "104  107   16  Female     160      10   3.9    Underweight\n",
       "105  108   21    Male     180      15   5.6    Underweight\n",
       "106  109   26  Female     150      15   5.6    Underweight\n",
       "107  110   31    Male     190      20   8.3    Underweight\n",
       "\n",
       "[108 rows x 7 columns]"
      ]
     },
     "execution_count": 35,
     "metadata": {},
     "output_type": "execute_result"
    }
   ],
   "source": [
    "data"
   ]
  },
  {
   "cell_type": "code",
   "execution_count": 36,
   "id": "ac6e1b6f",
   "metadata": {},
   "outputs": [
    {
     "data": {
      "text/plain": [
       "array(['Normal Weight', 'Overweight', 'Underweight', 'Obese'],\n",
       "      dtype=object)"
      ]
     },
     "execution_count": 36,
     "metadata": {},
     "output_type": "execute_result"
    }
   ],
   "source": [
    "data[\"Label\"].unique()"
   ]
  },
  {
   "cell_type": "code",
   "execution_count": 37,
   "id": "f4e29b55",
   "metadata": {},
   "outputs": [
    {
     "name": "stdout",
     "output_type": "stream",
     "text": [
      "{'model_version_status': [{'version': '1751687975', 'state': 'AVAILABLE', 'status': {'error_code': 'OK', 'error_message': ''}}]}\n"
     ]
    }
   ],
   "source": [
    "print(requests.get(\"https://obesityclassification-production.up.railway.app/v1/models/cc-model\").json())\n"
   ]
  },
  {
   "cell_type": "code",
   "execution_count": 38,
   "id": "d3fc1bcc",
   "metadata": {},
   "outputs": [
    {
     "name": "stdout",
     "output_type": "stream",
     "text": [
      "400\n",
      "{'error': '{{function_node __inference_pruned_247885_specialized_for_StatefulPartitionedCall_2_StatefulPartitionedCall_transform_features_layer_StatefulPartitionedCall_at_tf_graph_specialized_for_StatefulPartitionedCall_2_StatefulPartitionedCall_transform_features_layer_StatefulPartitionedCall_at_tf_graph}} {{function_node __inference_pruned_247885_specialized_for_StatefulPartitionedCall_2_StatefulPartitionedCall_transform_features_layer_StatefulPartitionedCall_at_tf_graph_specialized_for_StatefulPartitionedCall_2_StatefulPartitionedCall_transform_features_layer_StatefulPartitionedCall_at_tf_graph}} Expects arg[0] to be int64 but float is provided\\n\\t [[{{function_node __inference_serve_json_fn_248130}}{{node transform_features_layer/StatefulPartitionedCall}}]]'}\n"
     ]
    }
   ],
   "source": [
    "\n",
    "def prepare_json(instance: dict):\n",
    "    # Pastikan semua NumPy array dikonversi ke list\n",
    "    for k, v in instance.items():\n",
    "        if isinstance(v, np.ndarray):\n",
    "            instance[k] = v.tolist()\n",
    "    payload = {\n",
    "        \"signature_name\": \"serving_default\",\n",
    "        \"instances\": [instance]\n",
    "    }\n",
    "    return json.dumps(payload)\n",
    "\n",
    "instance = {\n",
    "    \"inputs\": [[170.0]],    # Height\n",
    "    \"inputs_1\": [[70.0]],   # Weight\n",
    "    \"inputs_2\": [[0]],      # Gender \n",
    "    \"inputs_3\": [[25.0]],   # BMI\n",
    "    \"inputs_4\": [[30.0]]      # Age\n",
    "}\n",
    "\n",
    "response = requests.post(\n",
    "    \"https://obesityclassification-production.up.railway.app/v1/models/cc-model:predict\",\n",
    "    headers={\"Content-Type\": \"application/json\"},\n",
    "    data=prepare_json(instance),\n",
    ")\n",
    "\n",
    "print(response.status_code)\n",
    "print(response.json())\n"
   ]
  },
  {
   "cell_type": "code",
   "execution_count": null,
   "id": "210da0dd",
   "metadata": {},
   "outputs": [],
   "source": []
  }
 ],
 "metadata": {
  "kernelspec": {
   "display_name": ".venv",
   "language": "python",
   "name": "python3"
  },
  "language_info": {
   "codemirror_mode": {
    "name": "ipython",
    "version": 3
   },
   "file_extension": ".py",
   "mimetype": "text/x-python",
   "name": "python",
   "nbconvert_exporter": "python",
   "pygments_lexer": "ipython3",
   "version": "3.9.0"
  }
 },
 "nbformat": 4,
 "nbformat_minor": 5
}
