{
 "cells": [
  {
   "cell_type": "code",
   "execution_count": null,
   "id": "e24491ee",
   "metadata": {},
   "outputs": [],
   "source": [
    "import requests\n",
    "import pandas as pd\n",
    "import json\n",
    "import tensorflow as tf\n",
    "import base64"
   ]
  },
  {
   "cell_type": "code",
   "execution_count": null,
   "id": "a7d89d0f",
   "metadata": {},
   "outputs": [],
   "source": [
    "data = pd.read_csv(\"./data/Obesity Classification.csv\")\n"
   ]
  },
  {
   "cell_type": "code",
   "execution_count": null,
   "id": "f8a3dbe5",
   "metadata": {},
   "outputs": [],
   "source": [
    "data"
   ]
  },
  {
   "cell_type": "code",
   "execution_count": null,
   "id": "ac6e1b6f",
   "metadata": {},
   "outputs": [],
   "source": [
    "data[\"Label\"].unique()"
   ]
  },
  {
   "cell_type": "code",
   "execution_count": null,
   "id": "f4e29b55",
   "metadata": {},
   "outputs": [],
   "source": [
    "print(requests.get(\"https://obesityclassification-production.up.railway.app/v1/models/cc-model\").json())\n"
   ]
  },
  {
   "cell_type": "code",
   "execution_count": null,
   "id": "d3fc1bcc",
   "metadata": {},
   "outputs": [],
   "source": [
    "def prepare_json(instance_dict):\n",
    "    feature_spec = {}\n",
    "\n",
    "    for key, value in instance_dict.items():\n",
    "        if key == \"Age\":\n",
    "            feature_spec[key] = tf.train.Feature(int64_list=tf.train.Int64List(value=[int(value)]))\n",
    "        elif isinstance(value, str):\n",
    "            feature_spec[key] = tf.train.Feature(bytes_list=tf.train.BytesList(value=[bytes(value, \"utf-8\")]))\n",
    "        else:\n",
    "            feature_spec[key] = tf.train.Feature(float_list=tf.train.FloatList(value=[float(value)]))\n",
    "\n",
    "    example = tf.train.Example(features=tf.train.Features(feature=feature_spec)).SerializeToString()\n",
    "    serialized_b64 = base64.b64encode(example).decode(\"utf-8\")\n",
    "\n",
    "    return json.dumps({\"instances\": [serialized_b64]})\n",
    "\n",
    "# Data instance\n",
    "instance = {\n",
    "    \"Age\": 25,\n",
    "    \"Gender\": \"Male\",\n",
    "    \"Height\": 175.0,\n",
    "    \"Weight\": 80.0,\n",
    "    \"BMI\": 25.3\n",
    "}\n",
    "\n",
    "# Kirim request\n",
    "response = requests.post(\n",
    "    \"https://obesityclassification-production.up.railway.app/v1/models/cc-model:predict\",\n",
    "    headers={\"Content-Type\": \"application/json\"},\n",
    "    data=prepare_json(instance),\n",
    ")\n",
    "\n",
    "print(response.status_code)\n",
    "print(response.json())"
   ]
  },
  {
   "cell_type": "code",
   "execution_count": null,
   "id": "210da0dd",
   "metadata": {},
   "outputs": [],
   "source": []
  }
 ],
 "metadata": {
  "kernelspec": {
   "display_name": ".venv",
   "language": "python",
   "name": "python3"
  },
  "language_info": {
   "codemirror_mode": {
    "name": "ipython",
    "version": 3
   },
   "file_extension": ".py",
   "mimetype": "text/x-python",
   "name": "python",
   "nbconvert_exporter": "python",
   "pygments_lexer": "ipython3",
   "version": "3.9.0"
  }
 },
 "nbformat": 4,
 "nbformat_minor": 5
}
