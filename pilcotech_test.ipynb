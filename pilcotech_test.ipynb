{
 "cells": [
  {
   "cell_type": "code",
   "execution_count": 190,
   "id": "e24491ee",
   "metadata": {},
   "outputs": [],
   "source": [
    "import requests\n",
    "import pandas as pd\n",
    "import tensorflow as tf\n",
    "import numpy as np\n",
    "import base64\n",
    "import json\n"
   ]
  },
  {
   "cell_type": "code",
   "execution_count": 191,
   "id": "a7d89d0f",
   "metadata": {},
   "outputs": [],
   "source": [
    "data = pd.read_csv(\"../Submmison_Akhir/Obesity Classification.csv\")\n"
   ]
  },
  {
   "cell_type": "code",
   "execution_count": 192,
   "id": "0a09d000",
   "metadata": {},
   "outputs": [],
   "source": [
    "\n",
    "# Drop kolom 'ID'\n",
    "data = data.drop(columns=['ID'])\n",
    "\n",
    "# Simpan ke file CSV baru\n",
    "data.to_csv(\"data/data.csv\", index=False)"
   ]
  },
  {
   "cell_type": "code",
   "execution_count": 193,
   "id": "f8a3dbe5",
   "metadata": {},
   "outputs": [
    {
     "data": {
      "text/html": [
       "<div>\n",
       "<style scoped>\n",
       "    .dataframe tbody tr th:only-of-type {\n",
       "        vertical-align: middle;\n",
       "    }\n",
       "\n",
       "    .dataframe tbody tr th {\n",
       "        vertical-align: top;\n",
       "    }\n",
       "\n",
       "    .dataframe thead th {\n",
       "        text-align: right;\n",
       "    }\n",
       "</style>\n",
       "<table border=\"1\" class=\"dataframe\">\n",
       "  <thead>\n",
       "    <tr style=\"text-align: right;\">\n",
       "      <th></th>\n",
       "      <th>Age</th>\n",
       "      <th>Gender</th>\n",
       "      <th>Height</th>\n",
       "      <th>Weight</th>\n",
       "      <th>BMI</th>\n",
       "      <th>Label</th>\n",
       "    </tr>\n",
       "  </thead>\n",
       "  <tbody>\n",
       "    <tr>\n",
       "      <th>0</th>\n",
       "      <td>25</td>\n",
       "      <td>Male</td>\n",
       "      <td>175</td>\n",
       "      <td>80</td>\n",
       "      <td>25.3</td>\n",
       "      <td>Normal Weight</td>\n",
       "    </tr>\n",
       "    <tr>\n",
       "      <th>1</th>\n",
       "      <td>30</td>\n",
       "      <td>Female</td>\n",
       "      <td>160</td>\n",
       "      <td>60</td>\n",
       "      <td>22.5</td>\n",
       "      <td>Normal Weight</td>\n",
       "    </tr>\n",
       "    <tr>\n",
       "      <th>2</th>\n",
       "      <td>35</td>\n",
       "      <td>Male</td>\n",
       "      <td>180</td>\n",
       "      <td>90</td>\n",
       "      <td>27.3</td>\n",
       "      <td>Overweight</td>\n",
       "    </tr>\n",
       "    <tr>\n",
       "      <th>3</th>\n",
       "      <td>40</td>\n",
       "      <td>Female</td>\n",
       "      <td>150</td>\n",
       "      <td>50</td>\n",
       "      <td>20.0</td>\n",
       "      <td>Underweight</td>\n",
       "    </tr>\n",
       "    <tr>\n",
       "      <th>4</th>\n",
       "      <td>45</td>\n",
       "      <td>Male</td>\n",
       "      <td>190</td>\n",
       "      <td>100</td>\n",
       "      <td>31.2</td>\n",
       "      <td>Obese</td>\n",
       "    </tr>\n",
       "    <tr>\n",
       "      <th>...</th>\n",
       "      <td>...</td>\n",
       "      <td>...</td>\n",
       "      <td>...</td>\n",
       "      <td>...</td>\n",
       "      <td>...</td>\n",
       "      <td>...</td>\n",
       "    </tr>\n",
       "    <tr>\n",
       "      <th>103</th>\n",
       "      <td>11</td>\n",
       "      <td>Male</td>\n",
       "      <td>175</td>\n",
       "      <td>10</td>\n",
       "      <td>3.9</td>\n",
       "      <td>Underweight</td>\n",
       "    </tr>\n",
       "    <tr>\n",
       "      <th>104</th>\n",
       "      <td>16</td>\n",
       "      <td>Female</td>\n",
       "      <td>160</td>\n",
       "      <td>10</td>\n",
       "      <td>3.9</td>\n",
       "      <td>Underweight</td>\n",
       "    </tr>\n",
       "    <tr>\n",
       "      <th>105</th>\n",
       "      <td>21</td>\n",
       "      <td>Male</td>\n",
       "      <td>180</td>\n",
       "      <td>15</td>\n",
       "      <td>5.6</td>\n",
       "      <td>Underweight</td>\n",
       "    </tr>\n",
       "    <tr>\n",
       "      <th>106</th>\n",
       "      <td>26</td>\n",
       "      <td>Female</td>\n",
       "      <td>150</td>\n",
       "      <td>15</td>\n",
       "      <td>5.6</td>\n",
       "      <td>Underweight</td>\n",
       "    </tr>\n",
       "    <tr>\n",
       "      <th>107</th>\n",
       "      <td>31</td>\n",
       "      <td>Male</td>\n",
       "      <td>190</td>\n",
       "      <td>20</td>\n",
       "      <td>8.3</td>\n",
       "      <td>Underweight</td>\n",
       "    </tr>\n",
       "  </tbody>\n",
       "</table>\n",
       "<p>108 rows × 6 columns</p>\n",
       "</div>"
      ],
      "text/plain": [
       "     Age  Gender  Height  Weight   BMI          Label\n",
       "0     25    Male     175      80  25.3  Normal Weight\n",
       "1     30  Female     160      60  22.5  Normal Weight\n",
       "2     35    Male     180      90  27.3     Overweight\n",
       "3     40  Female     150      50  20.0    Underweight\n",
       "4     45    Male     190     100  31.2          Obese\n",
       "..   ...     ...     ...     ...   ...            ...\n",
       "103   11    Male     175      10   3.9    Underweight\n",
       "104   16  Female     160      10   3.9    Underweight\n",
       "105   21    Male     180      15   5.6    Underweight\n",
       "106   26  Female     150      15   5.6    Underweight\n",
       "107   31    Male     190      20   8.3    Underweight\n",
       "\n",
       "[108 rows x 6 columns]"
      ]
     },
     "execution_count": 193,
     "metadata": {},
     "output_type": "execute_result"
    }
   ],
   "source": [
    "data"
   ]
  },
  {
   "cell_type": "code",
   "execution_count": 194,
   "id": "ac6e1b6f",
   "metadata": {},
   "outputs": [
    {
     "data": {
      "text/plain": [
       "array(['Normal Weight', 'Overweight', 'Underweight', 'Obese'],\n",
       "      dtype=object)"
      ]
     },
     "execution_count": 194,
     "metadata": {},
     "output_type": "execute_result"
    }
   ],
   "source": [
    "data[\"Label\"].unique()"
   ]
  },
  {
   "cell_type": "code",
   "execution_count": 195,
   "id": "f4e29b55",
   "metadata": {},
   "outputs": [
    {
     "name": "stdout",
     "output_type": "stream",
     "text": [
      "{'model_version_status': [{'version': '1751723698', 'state': 'AVAILABLE', 'status': {'error_code': 'OK', 'error_message': ''}}]}\n"
     ]
    }
   ],
   "source": [
    "print(requests.get(\"https://obesityclassification-production.up.railway.app/v1/models/cc-model\").json())\n"
   ]
  },
  {
   "cell_type": "code",
   "execution_count": null,
   "id": "210da0dd",
   "metadata": {},
   "outputs": [],
   "source": [
    "\n",
    "def prepare_json(inputs: dict):\n",
    "\n",
    "    # Mendefinisikan mapping dari kunci input ke jenis Fitur TensorFlow\n",
    "    feature_mapping = {\n",
    "    \"Age\": tf.train.Feature(int64_list=tf.train.Int64List(value=[int(inputs['Age'])])),\n",
    "    \"Gender\": tf.train.Feature(bytes_list=tf.train.BytesList(value=[inputs['Gender'].encode()])),\n",
    "    \"BMI\": tf.train.Feature(float_list=tf.train.FloatList(value=[float(inputs['BMI'])])),\n",
    "    \"Height\": tf.train.Feature(int64_list=tf.train.Int64List(value=[int(inputs['Height'])])),\n",
    "    \"Weight\": tf.train.Feature(int64_list=tf.train.Int64List(value=[int(inputs['Weight'])])),\n",
    "    }\n",
    "\n",
    "\n",
    "    # Membuat TensorFlow Example\n",
    "    example = tf.train.Example(\n",
    "        features=tf.train.Features(feature=feature_mapping)\n",
    "    ).SerializeToString()\n",
    "\n",
    "    # Melakukan encode Example ke base64\n",
    "    result = {\n",
    "        \"examples\": {\n",
    "            \"b64\": base64.b64encode(example).decode()\n",
    "        }\n",
    "    }\n",
    "\n",
    "    # Mengembalikan data dalam format JSON\n",
    "    return json.dumps({\n",
    "        \"signature_name\": \"serving_default\",\n",
    "        \"instances\": [result],\n",
    "    })\n",
    "\n",
    "\n",
    "# Fungsi untuk memprediksi data\n",
    "LABELS = ['Normal Weight', 'Overweight', 'Underweight', 'Obese']\n",
    "\n",
    "def predict(inputs):\n",
    "    json_data = prepare_json(inputs)\n",
    "    endpoint = \"https://obesityclassification-production.up.railway.app/v1/models/cc-model:predict\"\n",
    "\n",
    "    try:\n",
    "        response = requests.post(endpoint, data=json_data, timeout=10) \n",
    "        response.raise_for_status() \n",
    "        res_json = response.json()\n",
    "        print(\"Response JSON:\", res_json)\n",
    "\n",
    "        # Ambil array prediksi\n",
    "        predictions = res_json.get(\"predictions\", [])\n",
    "        if not predictions or not isinstance(predictions[0], list):\n",
    "            print(\"Format prediksi tidak sesuai.\")\n",
    "            return None\n",
    "\n",
    "        probs = predictions[0]\n",
    "        predicted_index = int(np.argmax(probs))\n",
    "        predicted_label = LABELS[predicted_index]\n",
    "\n",
    "        print(f\"Predicted label: {predicted_label}, Probabilities: {probs}\")\n",
    "\n",
    "        return predicted_label\n",
    "\n",
    "    except requests.exceptions.HTTPError as http_err:\n",
    "        print(f\"HTTP error occurred: {http_err} - Response content: {response.text}\")\n",
    "    except requests.exceptions.ConnectionError as conn_err:\n",
    "        print(f\"Connection error occurred: {conn_err}\")\n",
    "    except requests.exceptions.Timeout as timeout_err:\n",
    "        print(f\"Timeout error occurred: {timeout_err}\")\n",
    "    except requests.exceptions.RequestException as req_err:\n",
    "        print(f\"An unexpected error occurred: {req_err}\")\n",
    "\n",
    "    return None\n",
    "\n",
    "\n"
   ]
  },
  {
   "cell_type": "code",
   "execution_count": 197,
   "id": "e7ef495d",
   "metadata": {},
   "outputs": [],
   "source": [
    "datas = data.drop(columns=[\"Label\"], axis=1)"
   ]
  },
  {
   "cell_type": "code",
   "execution_count": 217,
   "id": "da80995f",
   "metadata": {},
   "outputs": [
    {
     "name": "stdout",
     "output_type": "stream",
     "text": [
      "Response JSON: {'predictions': [[1.0, 0.0, 0.0, 0.0]]}\n",
      "Predicted label: Normal Weight, Probabilities: [1.0, 0.0, 0.0, 0.0]\n"
     ]
    },
    {
     "data": {
      "text/plain": [
       "'Normal Weight'"
      ]
     },
     "execution_count": 217,
     "metadata": {},
     "output_type": "execute_result"
    }
   ],
   "source": [
    "oke = predict(datas.iloc[105])\n",
    "oke"
   ]
  },
  {
   "cell_type": "code",
   "execution_count": 204,
   "id": "81e274f9",
   "metadata": {},
   "outputs": [
    {
     "name": "stdout",
     "output_type": "stream",
     "text": [
      "Response JSON: {'predictions': [[1.39733398e-19, 1.0, 1.80929132e-12, 1.95103633e-17]]}\n",
      "Predicted label: Overweight, Probabilities: [1.39733398e-19, 1.0, 1.80929132e-12, 1.95103633e-17]\n"
     ]
    },
    {
     "data": {
      "text/plain": [
       "'Overweight'"
      ]
     },
     "execution_count": 204,
     "metadata": {},
     "output_type": "execute_result"
    }
   ],
   "source": [
    "oke = predict(datas.iloc[1])\n",
    "oke"
   ]
  },
  {
   "cell_type": "code",
   "execution_count": null,
   "id": "6f620a5a",
   "metadata": {},
   "outputs": [],
   "source": []
  }
 ],
 "metadata": {
  "kernelspec": {
   "display_name": ".venv",
   "language": "python",
   "name": "python3"
  },
  "language_info": {
   "codemirror_mode": {
    "name": "ipython",
    "version": 3
   },
   "file_extension": ".py",
   "mimetype": "text/x-python",
   "name": "python",
   "nbconvert_exporter": "python",
   "pygments_lexer": "ipython3",
   "version": "3.9.0"
  }
 },
 "nbformat": 4,
 "nbformat_minor": 5
}
